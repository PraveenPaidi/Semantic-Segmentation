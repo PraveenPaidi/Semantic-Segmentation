{
 "cells": [
  {
   "cell_type": "code",
   "execution_count": 65,
   "id": "4f947f46",
   "metadata": {},
   "outputs": [
    {
     "name": "stdout",
     "output_type": "stream",
     "text": [
      "Loaded 202627 data points from the PCD file.\n",
      "Downsampled point cloud has 200000 data points.\n"
     ]
    }
   ],
   "source": [
    "import open3d as o3d\n",
    "import numpy as np\n",
    "\n",
    "def load_pcd_file(file_path):\n",
    "    cloud = o3d.io.read_point_cloud(file_path)\n",
    "    if not cloud:\n",
    "        print(\"Failed to load the PCD file.\")\n",
    "        return None\n",
    "\n",
    "    print(f\"Loaded {len(cloud.points)} data points from the PCD file.\")\n",
    "    return cloud\n",
    "\n",
    "def apply_random_downsampling(cloud, target_points):\n",
    "    num_points = len(cloud.points)\n",
    "\n",
    "    if num_points <= target_points:\n",
    "        return cloud\n",
    "\n",
    "    # Generate random indices to select the desired number of points\n",
    "    indices = np.random.choice(num_points, target_points, replace=False)\n",
    "    cloud_downsampled = cloud.select_by_index(indices)\n",
    "\n",
    "    return cloud_downsampled\n",
    "\n",
    "if __name__ == \"__main__\":\n",
    "    file_path = r'C:\\Users\\prave\\Desktop\\Intern\\tabletop.pcd'  # Replace with the actual file path\n",
    "    target_points = 200000  # Set the desired number of points after downsampling\n",
    "\n",
    "    cloud = load_pcd_file(file_path)\n",
    "    if cloud:\n",
    "        cloud_downsampled = apply_random_downsampling(cloud, target_points)\n",
    "        print(f\"Downsampled point cloud has {len(cloud_downsampled.points)} data points.\")\n",
    "\n",
    "        # Visualize the downsampled point cloud\n",
    "        o3d.visualization.draw_geometries([cloud_downsampled])\n"
   ]
  },
  {
   "cell_type": "code",
   "execution_count": 66,
   "id": "71d65829",
   "metadata": {},
   "outputs": [
    {
     "name": "stdout",
     "output_type": "stream",
     "text": [
      "Filtered point cloud has 71877 data points.\n"
     ]
    }
   ],
   "source": [
    "def apply_passthrough_filter(cloud, axis_min, axis_max, filter_axis='z'):\n",
    "    # Create an AxisAlignedBoundingBox to specify the range for filtering\n",
    "    bbox = o3d.geometry.AxisAlignedBoundingBox(min_bound=(-float('inf'), -float('inf'), axis_min),\n",
    "                                               max_bound=(float('inf'), float('inf'), axis_max))\n",
    "\n",
    "    # Crop the point cloud using the bounding box\n",
    "    cloud_filtered = cloud.crop(bbox)\n",
    "    return cloud_filtered\n",
    "\n",
    "axis_min = 0.7\n",
    "axis_max = 2\n",
    "filter_axis = 'z'\n",
    "\n",
    "if cloud:\n",
    "    cloud_filtered = apply_passthrough_filter(cloud_downsampled, axis_min, axis_max, filter_axis)\n",
    "    print(f\"Filtered point cloud has {len(cloud_filtered.points)} data points.\")\n",
    "\n",
    "    # Save the filtered point cloud to a new PCD file\n",
    "    filename_filtered = 'pass_through_filtered.pcd'\n",
    "    o3d.io.write_point_cloud(filename_filtered, cloud_filtered)\n",
    "    o3d.visualization.draw_geometries([cloud_filtered])\n"
   ]
  },
  {
   "cell_type": "code",
   "execution_count": 67,
   "id": "3b6fe614",
   "metadata": {},
   "outputs": [
    {
     "name": "stdout",
     "output_type": "stream",
     "text": [
      "Number of inlier points: 50506\n",
      "Number of outlier points: 21371\n"
     ]
    }
   ],
   "source": [
    "import open3d as o3d\n",
    "import numpy as np\n",
    "\n",
    "def plane_segmentation_ransac(cloud, distance_threshold=0.01, max_iterations=1000):\n",
    "    # Convert Open3D PointCloud to numpy array\n",
    "    points_np = np.asarray(cloud.points)\n",
    "\n",
    "    # Initialize variables for plane segmentation\n",
    "    best_plane = None\n",
    "    best_inliers = []\n",
    "    num_points = len(points_np)\n",
    "\n",
    "    for _ in range(max_iterations):\n",
    "        # Randomly select three points to fit a plane\n",
    "        indices = np.random.choice(num_points, 3, replace=False)\n",
    "        sampled_points = points_np[indices]\n",
    "\n",
    "        # Fit a plane to the sampled points using Open3D's fit_plane function\n",
    "        plane_model, inliers = cloud.segment_plane(distance_threshold=distance_threshold,\n",
    "                                                   ransac_n=3,\n",
    "                                                   num_iterations=1000)\n",
    "\n",
    "        # Find inliers within the distance threshold\n",
    "        inliers = np.asarray(inliers)\n",
    "\n",
    "        # Check if the current inliers are better than previous best\n",
    "        if len(inliers) > len(best_inliers):\n",
    "            best_plane = plane_model\n",
    "            best_inliers = inliers\n",
    "\n",
    "    # Extract inliers and outliers based on the segmentation result\n",
    "    cloud_inliers = cloud.select_by_index(best_inliers)\n",
    "    cloud_outliers = cloud.select_by_index(best_inliers, invert=True)\n",
    "\n",
    "    return cloud_inliers, cloud_outliers\n",
    "\n",
    "\n",
    "if cloud:\n",
    "    cloud_inliers, cloud_outliers = plane_segmentation_ransac(cloud_filtered)\n",
    "\n",
    "    print(f\"Number of inlier points: {len(cloud_inliers.points)}\")\n",
    "    print(f\"Number of outlier points: {len(cloud_outliers.points)}\")\n",
    "\n",
    "    # Save the segmented point clouds to new PCD files\n",
    "    filename_inliers = 'inlier_points.pcd'\n",
    "    o3d.io.write_point_cloud(filename_inliers, cloud_inliers)\n",
    "\n",
    "    filename_outliers = 'outlier_points.pcd'\n",
    "    o3d.io.write_point_cloud(filename_outliers, cloud_outliers)\n",
    "    \n",
    "    o3d.visualization.draw_geometries([cloud_outliers])\n"
   ]
  },
  {
   "cell_type": "code",
   "execution_count": 68,
   "id": "9f803379",
   "metadata": {},
   "outputs": [
    {
     "data": {
      "text/plain": [
       "True"
      ]
     },
     "execution_count": 68,
     "metadata": {},
     "output_type": "execute_result"
    }
   ],
   "source": [
    "filename_inliers = 'extracted_inliers.pcd'\n",
    "o3d.io.write_point_cloud(filename_inliers, cloud_inliers)"
   ]
  },
  {
   "cell_type": "code",
   "execution_count": 69,
   "id": "02e10e79",
   "metadata": {},
   "outputs": [],
   "source": [
    "o3d.visualization.draw_geometries([cloud_outliers])"
   ]
  },
  {
   "cell_type": "code",
   "execution_count": 75,
   "id": "f0b8688f",
   "metadata": {},
   "outputs": [
    {
     "name": "stdout",
     "output_type": "stream",
     "text": [
      "Number of clusters found: 7\n"
     ]
    }
   ],
   "source": [
    "import open3d as o3d\n",
    "import numpy as np\n",
    "\n",
    "def euclidean_clustering(cloud, cluster_tol=0.001, min_cluster_size=10, max_cluster_size=250):\n",
    "    points_np = np.asarray(cloud.points)\n",
    "\n",
    "    # Create a KD tree for efficient search\n",
    "    tree = o3d.geometry.KDTreeFlann(cloud)\n",
    "\n",
    "    # Initialize list to store cluster indices\n",
    "    cluster_indices = []\n",
    "\n",
    "    # Mark points that have been processed\n",
    "    processed = np.zeros(points_np.shape[0], dtype=bool)\n",
    "\n",
    "    # Iterate through each point to form clusters\n",
    "    for idx in range(points_np.shape[0]):\n",
    "        if not processed[idx]:\n",
    "            # Create a new cluster\n",
    "            cluster = []\n",
    "            # Mark this point as processed\n",
    "            processed[idx] = True\n",
    "            cluster.append(idx)\n",
    "\n",
    "            # Queue for BFS\n",
    "            queue = [idx]\n",
    "\n",
    "            while len(queue) > 0:\n",
    "                current_idx = queue.pop(0)\n",
    "                # Find neighbors within the cluster tolerance distance\n",
    "                [_, neighbor_indices, _] = tree.search_radius_vector_3d(points_np[current_idx], cluster_tol)\n",
    "                for neighbor_idx in neighbor_indices:\n",
    "                    if not processed[neighbor_idx]:\n",
    "                        # Mark this point as processed\n",
    "                        processed[neighbor_idx] = True\n",
    "                        cluster.append(neighbor_idx)\n",
    "                        queue.append(neighbor_idx)\n",
    "\n",
    "            # Check if the cluster meets the size requirements\n",
    "            if min_cluster_size <= len(cluster) <= max_cluster_size:\n",
    "                cluster_indices.append(cluster)\n",
    "\n",
    "    return cluster_indices\n",
    "\n",
    "# Perform Euclidean clustering\n",
    "cluster_indices = euclidean_clustering(cloud_outliers, cluster_tol=0.05, min_cluster_size=100, max_cluster_size=10000)\n",
    "\n",
    "print(f\"Number of clusters found: {len(cluster_indices)}\")\n",
    "\n",
    "# Visualize each cluster with a different color\n",
    "colored_clusters = []\n",
    "for i, indices in enumerate(cluster_indices):\n",
    "    cluster = cloud_outliers.select_by_index(indices)\n",
    "    cluster.paint_uniform_color([np.random.random(), np.random.random(), np.random.random()])\n",
    "    colored_clusters.append(cluster)\n",
    "\n",
    "# Concatenate the colored clusters and visualize\n",
    "o3d.visualization.draw_geometries(colored_clusters, width=800, height=600)\n"
   ]
  },
  {
   "cell_type": "code",
   "execution_count": 76,
   "id": "381977a8",
   "metadata": {},
   "outputs": [],
   "source": [
    "# Assuming you already have the 'cluster_indices' variable from previous code\n",
    "\n",
    "# List to store individual cluster PointCloud objects\n",
    "cluster_pointclouds = []\n",
    "\n",
    "# Convert the 'cloud_outliers' PointCloud to numpy array (XYZRGB to XYZ)\n",
    "cloud_points = np.asarray(cloud_outliers.points)\n",
    "\n",
    "# Loop through each cluster indices\n",
    "for cluster_indices in cluster_indices:\n",
    "    # Extract the points of the current cluster using the indices\n",
    "    cluster_points_np = cloud_points[cluster_indices]\n",
    "    \n",
    "    # Create an Open3D PointCloud object from the cluster points\n",
    "    cluster_points_cloud = o3d.geometry.PointCloud(points=o3d.utility.Vector3dVector(cluster_points_np))\n",
    "    \n",
    "    # Append the cluster PointCloud object to the list\n",
    "    cluster_pointclouds.append(cluster_points_cloud)\n",
    "\n",
    "# Now 'cluster_pointclouds' contains individual PointCloud objects for each cluster\n"
   ]
  },
  {
   "cell_type": "code",
   "execution_count": null,
   "id": "b2c9a1cd",
   "metadata": {},
   "outputs": [],
   "source": []
  },
  {
   "cell_type": "code",
   "execution_count": null,
   "id": "9326ea06",
   "metadata": {},
   "outputs": [],
   "source": []
  },
  {
   "cell_type": "code",
   "execution_count": null,
   "id": "0730e528",
   "metadata": {},
   "outputs": [],
   "source": []
  }
 ],
 "metadata": {
  "kernelspec": {
   "display_name": "Python 3 (ipykernel)",
   "language": "python",
   "name": "python3"
  },
  "language_info": {
   "codemirror_mode": {
    "name": "ipython",
    "version": 3
   },
   "file_extension": ".py",
   "mimetype": "text/x-python",
   "name": "python",
   "nbconvert_exporter": "python",
   "pygments_lexer": "ipython3",
   "version": "3.9.13"
  }
 },
 "nbformat": 4,
 "nbformat_minor": 5
}
